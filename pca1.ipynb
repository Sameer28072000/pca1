{
 "cells": [
  {
   "cell_type": "markdown",
   "id": "45b93e54-a718-4ac4-9a9f-a99ffa906ff6",
   "metadata": {},
   "source": [
    "Q1. What is the curse of dimensionality reduction and why is it important in machine learning?"
   ]
  },
  {
   "cell_type": "code",
   "execution_count": null,
   "id": "30f7eb9c-3262-4d16-ad97-0b00e378a248",
   "metadata": {},
   "outputs": [],
   "source": [
    "Ans:-Dimension is nothing but feature of the dataset.\n",
    "       If you are adding & increasing irrelevant attributes to the train data model accuracy will be decreases.\n",
    "         model will confused then it is known as  curse of dimensionality reduction ."
   ]
  },
  {
   "cell_type": "markdown",
   "id": "d01d203c-7508-4a9c-8fde-fae5b9569ab9",
   "metadata": {},
   "source": [
    "Q2. How does the curse of dimensionality impact the performance of machine learning algorithms?"
   ]
  },
  {
   "cell_type": "code",
   "execution_count": null,
   "id": "107b8c87-705a-4928-8ab7-c4f78fec77b8",
   "metadata": {},
   "outputs": [],
   "source": [
    "Ans:-\n",
    "      i.increased model complexity\n",
    "       ii.increased overfitting\n",
    "         iii.data sparsity\n",
    "            \n",
    "            impact of the curse of dimensionality, dimensionality reduction techniques &\n",
    "               feature selection."
   ]
  },
  {
   "cell_type": "markdown",
   "id": "ae583bc3-59a7-472e-91b3-6840c083e9e8",
   "metadata": {},
   "source": [
    "Q3. What are some of the consequences of the curse of dimensionality in machine learning, and how do\n",
    "they impact model performance?"
   ]
  },
  {
   "cell_type": "code",
   "execution_count": null,
   "id": "a15ece2c-9fc1-43d4-8b0c-a619e2515f57",
   "metadata": {},
   "outputs": [],
   "source": [
    "Ans:- The consequences of the curse of dimensionality in machine learning:-\n",
    "       i.increased model complexity\n",
    "        ii.sparsity if data\n",
    "          iii.increased overfitting\n",
    "             iv.feature selection\n",
    "                \n",
    "            impact model performance to reduce dimentionality,feature seltion.\n",
    "            "
   ]
  },
  {
   "cell_type": "markdown",
   "id": "7ec4ea73-a780-4e0a-8e4c-38757fc45167",
   "metadata": {},
   "source": [
    "Q4. Can you explain the concept of feature selection and how it can help with dimensionality reduction?"
   ]
  },
  {
   "cell_type": "code",
   "execution_count": null,
   "id": "f7c16b4a-d814-41cc-8971-16dab402a82e",
   "metadata": {},
   "outputs": [],
   "source": [
    "Ans:-Feature selection is the process select relevant attributes from the data.\n",
    "       reduce dimenstionality feom high dimension to low dimension(3D-2D).\n",
    "         here we are removing the irrelavant feature from the dataset."
   ]
  },
  {
   "cell_type": "markdown",
   "id": "990b5594-03aa-48f7-87ff-96e55a6031dd",
   "metadata": {},
   "source": [
    "Q5. What are some limitations and drawbacks of using dimensionality reduction techniques in machine\n",
    "learning?"
   ]
  },
  {
   "cell_type": "code",
   "execution_count": null,
   "id": "9fb51bae-0549-46cb-b46d-6ccc508fe8d2",
   "metadata": {},
   "outputs": [],
   "source": [
    "Ans:- limitations and drawbacks of using dimensionality reduction techniques in machine learning:-\n",
    "        i.complexity\n",
    "          ii.sensitivity to outlier\n",
    "            iii.dimentionality trade-off\n",
    "              iv.information loss"
   ]
  },
  {
   "cell_type": "markdown",
   "id": "919d0eaf-7de6-4ddb-8324-ad9d83a9637a",
   "metadata": {},
   "source": [
    "Q6. How does the curse of dimensionality relate to overfitting and underfitting in machine learning?"
   ]
  },
  {
   "cell_type": "code",
   "execution_count": null,
   "id": "5d96d036-1732-4b6f-bcf7-c56a544e0064",
   "metadata": {},
   "outputs": [],
   "source": [
    "Ans:-The curse of dimensionality increases the overfitting due to sparsity,\n",
    "       noise, and the complexity of high-dimensional data. \n",
    "      overfitting when the model learns from the training data.\n",
    "        underfitting when the model is too simple capture patterns in the data."
   ]
  },
  {
   "cell_type": "markdown",
   "id": "f7174790-de7c-4e70-9b9b-c1b26e21d5f7",
   "metadata": {},
   "source": [
    "Q7. How can one determine the optimal number of dimensions to reduce data to when using\n",
    "dimensionality reduction techniques?"
   ]
  },
  {
   "cell_type": "code",
   "execution_count": null,
   "id": "cf133668-e5e5-43dc-9bd7-6755dc57d0ef",
   "metadata": {},
   "outputs": [],
   "source": [
    "Ans:-PCA is the tecnique to reduce high dimension to low dimension(3D-2D)\n",
    "       without eliminating other features.\n",
    "     PCA is nothing but it is a principal component analysis.\n",
    "         PCA is used to reduce overfitting of the model.\n",
    "            \n",
    "            i.Cross validation \n",
    "              iispres"
   ]
  }
 ],
 "metadata": {
  "kernelspec": {
   "display_name": "Python 3 (ipykernel)",
   "language": "python",
   "name": "python3"
  },
  "language_info": {
   "codemirror_mode": {
    "name": "ipython",
    "version": 3
   },
   "file_extension": ".py",
   "mimetype": "text/x-python",
   "name": "python",
   "nbconvert_exporter": "python",
   "pygments_lexer": "ipython3",
   "version": "3.10.8"
  }
 },
 "nbformat": 4,
 "nbformat_minor": 5
}
